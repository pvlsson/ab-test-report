{
  "cells": [
    {
      "cell_type": "code",
      "execution_count": null,
      "metadata": {
        "id": "9zZzq6epE5sO"
      },
      "outputs": [],
      "source": []
    },
    {
      "cell_type": "code",
      "execution_count": 5,
      "metadata": {
        "id": "2SsAVu6uE90l"
      },
      "outputs": [],
      "source": [
        "import pandas as pd\n",
        "import numpy as np\n",
        "import datetime\n",
        "import random"
      ]
    },
    {
      "cell_type": "markdown",
      "metadata": {
        "id": "1BrtiEgNFHpv"
      },
      "source": [
        "### Configurable parameters"
      ]
    },
    {
      "cell_type": "code",
      "execution_count": 6,
      "metadata": {
        "id": "nucTC-wOFBws"
      },
      "outputs": [],
      "source": [
        "NUM_CUSTOMERS = 1000\n",
        "NUM_TEST_ENTRIES = 2000\n",
        "REGISTRATION_RATE = 0.60\n",
        "PURCHASE_RATE = 0.20\n",
        "\n",
        "TEST_NAMES = [\"Landing Page Test\", \"Email Subject Test\", \"Checkout Flow Test\"]\n",
        "TEST_GROUPS = [\"A\", \"B\"]\n",
        "REGISTRATION_RATE = 0.60\n",
        "PURCHASE_RATE = 0.20\n",
        "\n",
        "START_DATE = datetime.datetime(2025, 1, 1)\n",
        "END_DATE = datetime.datetime(2025, 3, 1)"
      ]
    },
    {
      "cell_type": "markdown",
      "metadata": {
        "id": "yh0pcT5rFJDe"
      },
      "source": [
        "### Utility functions"
      ]
    },
    {
      "cell_type": "code",
      "execution_count": 10,
      "metadata": {
        "id": "nEhmemo6FLX3"
      },
      "outputs": [],
      "source": [
        "# Return a random datetime between start and end.\n",
        "def random_date(start, end):\n",
        "  total_seconds = int((end - start).total_seconds())\n",
        "  random_second = random.randrange(total_seconds)\n",
        "  return start + datetime.timedelta(seconds=random_second)"
      ]
    },
    {
      "cell_type": "markdown",
      "metadata": {
        "id": "Vk4akPUlFTqK"
      },
      "source": [
        "### 1) Generate d_customer"
      ]
    },
    {
      "cell_type": "code",
      "execution_count": 8,
      "metadata": {
        "id": "V5SJOVQ4FVAB"
      },
      "outputs": [],
      "source": [
        "customer_ids = list(range(1, NUM_CUSTOMERS + 1))\n",
        "ages = np.random.randint(18, 70, size=NUM_CUSTOMERS)\n",
        "genders = np.random.choice([\"M\", \"F\"], size=NUM_CUSTOMERS)\n",
        "\n",
        "d_customer = pd.DataFrame({\n",
        "  \"customer_id\": customer_ids,\n",
        "  \"age\": ages,\n",
        "  \"gender\": genders\n",
        "})"
      ]
    },
    {
      "cell_type": "markdown",
      "metadata": {
        "id": "yNDzJfdMFi2F"
      },
      "source": [
        "### 2) Generate f_test_entries (fact table)"
      ]
    },
    {
      "cell_type": "code",
      "execution_count": null,
      "metadata": {
        "id": "nNfNS8T7Fjlr"
      },
      "outputs": [],
      "source": [
        "# We will randomly pick customers, tests, and groups, and assign random dates.\n",
        "fact_rows   = []\n",
        "seen_pairs  = set()            # to enforce (customer_id, test_name) uniqueness\n",
        "target_p_if_registered = PURCHASE_RATE / REGISTRATION_RATE   # ≈ 0.3333\n",
        "\n",
        "while len(fact_rows) < NUM_TEST_ENTRIES:\n",
        "    cid      = random.choice(customer_ids)\n",
        "    t_name   = random.choice(TEST_NAMES)\n",
        "\n",
        "    # Skip if this customer already entered this test once\n",
        "    if (cid, t_name) in seen_pairs:\n",
        "        continue\n",
        "    seen_pairs.add((cid, t_name))\n",
        "\n",
        "    t_group  = random.choice(TEST_GROUPS)\n",
        "    entry_dt = random_date(START_DATE, END_DATE)\n",
        "\n",
        "    # Registration\n",
        "    if random.random() < REGISTRATION_RATE:\n",
        "        reg_dt = random_date(entry_dt, END_DATE)\n",
        "\n",
        "        # Purchase (conditional on registration)\n",
        "        if random.random() < target_p_if_registered:\n",
        "            purch_dt = random_date(reg_dt, END_DATE)\n",
        "        else:\n",
        "            purch_dt = None\n",
        "    else:\n",
        "        reg_dt   = None\n",
        "        purch_dt = None\n",
        "\n",
        "    fact_rows.append({\n",
        "        \"customer_id\":             cid,\n",
        "        \"test_entry_datetime\":     entry_dt.strftime(\"%Y-%m-%d %H:%M:%S\"),\n",
        "        \"test_name\":               t_name,\n",
        "        \"test_group\":              t_group,\n",
        "        \"registration_datetime\":   (reg_dt.strftime(\"%Y-%m-%d %H:%M:%S\")\n",
        "                                    if reg_dt else \"\"),\n",
        "        \"first_purchase_datetime\": (purch_dt.strftime(\"%Y-%m-%d %H:%M:%S\")\n",
        "                                    if purch_dt else \"\")\n",
        "    })\n",
        "\n",
        "f_test_entries = pd.DataFrame(fact_rows)"
      ]
    },
    {
      "cell_type": "markdown",
      "metadata": {
        "id": "PeUvzXm-FxWG"
      },
      "source": [
        "### 3) Save to CSV"
      ]
    },
    {
      "cell_type": "code",
      "execution_count": 12,
      "metadata": {
        "colab": {
          "base_uri": "https://localhost:8080/",
          "height": 34
        },
        "id": "yVFs8ouqF5yv",
        "outputId": "6541e5dc-65aa-4cfc-dd88-02ce93bc21d0"
      },
      "outputs": [
        {
          "data": {
            "application/javascript": "\n    async function download(id, filename, size) {\n      if (!google.colab.kernel.accessAllowed) {\n        return;\n      }\n      const div = document.createElement('div');\n      const label = document.createElement('label');\n      label.textContent = `Downloading \"${filename}\": `;\n      div.appendChild(label);\n      const progress = document.createElement('progress');\n      progress.max = size;\n      div.appendChild(progress);\n      document.body.appendChild(div);\n\n      const buffers = [];\n      let downloaded = 0;\n\n      const channel = await google.colab.kernel.comms.open(id);\n      // Send a message to notify the kernel that we're ready.\n      channel.send({})\n\n      for await (const message of channel.messages) {\n        // Send a message to notify the kernel that we're ready.\n        channel.send({})\n        if (message.buffers) {\n          for (const buffer of message.buffers) {\n            buffers.push(buffer);\n            downloaded += buffer.byteLength;\n            progress.value = downloaded;\n          }\n        }\n      }\n      const blob = new Blob(buffers, {type: 'application/binary'});\n      const a = document.createElement('a');\n      a.href = window.URL.createObjectURL(blob);\n      a.download = filename;\n      div.appendChild(a);\n      a.click();\n      div.remove();\n    }\n  ",
            "text/plain": [
              "<IPython.core.display.Javascript object>"
            ]
          },
          "metadata": {},
          "output_type": "display_data"
        },
        {
          "data": {
            "application/javascript": "download(\"download_9e9be3ac-8855-42e5-9198-8e7e7d5401b4\", \"d_customer.csv\", 8916)",
            "text/plain": [
              "<IPython.core.display.Javascript object>"
            ]
          },
          "metadata": {},
          "output_type": "display_data"
        },
        {
          "data": {
            "application/javascript": "\n    async function download(id, filename, size) {\n      if (!google.colab.kernel.accessAllowed) {\n        return;\n      }\n      const div = document.createElement('div');\n      const label = document.createElement('label');\n      label.textContent = `Downloading \"${filename}\": `;\n      div.appendChild(label);\n      const progress = document.createElement('progress');\n      progress.max = size;\n      div.appendChild(progress);\n      document.body.appendChild(div);\n\n      const buffers = [];\n      let downloaded = 0;\n\n      const channel = await google.colab.kernel.comms.open(id);\n      // Send a message to notify the kernel that we're ready.\n      channel.send({})\n\n      for await (const message of channel.messages) {\n        // Send a message to notify the kernel that we're ready.\n        channel.send({})\n        if (message.buffers) {\n          for (const buffer of message.buffers) {\n            buffers.push(buffer);\n            downloaded += buffer.byteLength;\n            progress.value = downloaded;\n          }\n        }\n      }\n      const blob = new Blob(buffers, {type: 'application/binary'});\n      const a = document.createElement('a');\n      a.href = window.URL.createObjectURL(blob);\n      a.download = filename;\n      div.appendChild(a);\n      a.click();\n      div.remove();\n    }\n  ",
            "text/plain": [
              "<IPython.core.display.Javascript object>"
            ]
          },
          "metadata": {},
          "output_type": "display_data"
        },
        {
          "data": {
            "application/javascript": "download(\"download_7f763634-f5f8-4c0f-b67a-46298374e546\", \"f_test_entries.csv\", 123816)",
            "text/plain": [
              "<IPython.core.display.Javascript object>"
            ]
          },
          "metadata": {},
          "output_type": "display_data"
        },
        {
          "name": "stdout",
          "output_type": "stream",
          "text": [
            "Data generation complete! Files saved as d_customer.csv and f_test_entries.csv.\n"
          ]
        }
      ],
      "source": [
        "d_customer.to_csv(\"d_customer.csv\", index=False)\n",
        "f_test_entries.to_csv(\"f_test_entries.csv\", index=False)\n",
        "\n",
        "from google.colab import files\n",
        "files.download(\"d_customer.csv\")\n",
        "files.download(\"f_test_entries.csv\")\n",
        "\n",
        "print(\"Data generation complete! Files saved as d_customer.csv and f_test_entries.csv.\")"
      ]
    }
  ],
  "metadata": {
    "colab": {
      "provenance": []
    },
    "kernelspec": {
      "display_name": "Python 3",
      "name": "python3"
    },
    "language_info": {
      "name": "python"
    }
  },
  "nbformat": 4,
  "nbformat_minor": 0
}
